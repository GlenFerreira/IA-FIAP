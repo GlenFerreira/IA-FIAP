{
  "nbformat": 4,
  "nbformat_minor": 0,
  "metadata": {
    "colab": {
      "provenance": []
    },
    "kernelspec": {
      "name": "python3",
      "display_name": "Python 3"
    }
  },
  "cells": [
    {
      "cell_type": "markdown",
      "metadata": {
        "id": "2kYUYJ3CL-K-"
      },
      "source": [
        "#Animais\n",
        "\n",
        "\n",
        "*   Aguia\n",
        "*   Cavalo\n",
        "\n",
        "\n",
        "#Caracteristicas ( features )\n",
        "\n",
        "\n",
        "\n",
        "*   Tem asa?\n",
        "*   é possivel montaria?\n",
        "*   Enxerga no escuro?\n",
        "\n",
        "0 = não\n",
        "1 = sim\n"
      ]
    },
    {
      "cell_type": "code",
      "metadata": {
        "id": "-86XryybLNue"
      },
      "source": [],
      "execution_count": null,
      "outputs": []
    },
    {
      "cell_type": "code",
      "metadata": {
        "id": "_7w60mhDMokl"
      },
      "source": [
        "aguia1 = [1,0,1]\n",
        "aguia2 = [1,0,0]\n",
        "aguia3 = [0,0,1]\n",
        "\n",
        "cava1 = [0,1,1]\n",
        "cava2 = [0,1,1]\n",
        "cava3 = [0,1,0]\n"
      ],
      "execution_count": null,
      "outputs": []
    },
    {
      "cell_type": "code",
      "metadata": {
        "id": "wscPFP9vNePm"
      },
      "source": [
        "treino = [aguia1,aguia2,aguia3,cava1,cava2,cava3]\n",
        "classificacao = [0,0,0,1,1,1]\n",
        "## 0 == aguia / 1 == cavalo"
      ],
      "execution_count": null,
      "outputs": []
    },
    {
      "cell_type": "code",
      "metadata": {
        "colab": {
          "base_uri": "https://localhost:8080/"
        },
        "id": "ZoQJpeCON2XW",
        "outputId": "52932a05-18d3-42bd-e4d0-0c49a804d506"
      },
      "source": [
        "from sklearn.svm import LinearSVC\n",
        "\n",
        "modelo = LinearSVC()\n",
        "modelo.fit(treino , classificacao)"
      ],
      "execution_count": null,
      "outputs": [
        {
          "output_type": "execute_result",
          "data": {
            "text/plain": [
              "LinearSVC(C=1.0, class_weight=None, dual=True, fit_intercept=True,\n",
              "          intercept_scaling=1, loss='squared_hinge', max_iter=1000,\n",
              "          multi_class='ovr', penalty='l2', random_state=None, tol=0.0001,\n",
              "          verbose=0)"
            ]
          },
          "metadata": {
            "tags": []
          },
          "execution_count": 5
        }
      ]
    },
    {
      "cell_type": "code",
      "metadata": {
        "colab": {
          "base_uri": "https://localhost:8080/"
        },
        "id": "UCxY5pOwQSSY",
        "outputId": "895feac1-6e65-414a-fb94-1767cec38a35"
      },
      "source": [
        "animal_misterioso = [1,0,0]\n",
        "modelo.predict([animal_misterioso])"
      ],
      "execution_count": null,
      "outputs": [
        {
          "output_type": "execute_result",
          "data": {
            "text/plain": [
              "array([0])"
            ]
          },
          "metadata": {
            "tags": []
          },
          "execution_count": 6
        }
      ]
    },
    {
      "cell_type": "code",
      "metadata": {
        "id": "drjRbz2SQ5-I"
      },
      "source": [
        "misterio6 = [1,1,1,0,1,0,1]\n",
        "misterio7 = [1,0,0]\n",
        "misterio8 = [0,1,1]\n",
        "\n",
        "\n",
        "teste_x = [misterio6,misterio7,misterio8]\n",
        "teste_y = [0,1,1]\n"
      ],
      "execution_count": null,
      "outputs": []
    },
    {
      "cell_type": "code",
      "metadata": {
        "colab": {
          "base_uri": "https://localhost:8080/"
        },
        "id": "CP3F32QnRyMh",
        "outputId": "7938275e-5827-4644-8bd1-4bb825efa08f"
      },
      "source": [
        "previsao = modelo.predict(teste_x)\n",
        "previsao"
      ],
      "execution_count": null,
      "outputs": [
        {
          "output_type": "execute_result",
          "data": {
            "text/plain": [
              "array([1, 0, 1])"
            ]
          },
          "metadata": {
            "tags": []
          },
          "execution_count": 19
        }
      ]
    },
    {
      "cell_type": "code",
      "metadata": {
        "colab": {
          "base_uri": "https://localhost:8080/"
        },
        "id": "QnKLnI9FTrLq",
        "outputId": "ce880169-acfb-468f-ccad-5bbafd2186d6"
      },
      "source": [
        "from sklearn.metrics import accuracy_score\n",
        "\n",
        "accuracy_score(teste_y, previsao)"
      ],
      "execution_count": null,
      "outputs": [
        {
          "output_type": "execute_result",
          "data": {
            "text/plain": [
              "0.3333333333333333"
            ]
          },
          "metadata": {
            "tags": []
          },
          "execution_count": 21
        }
      ]
    }
  ]
}